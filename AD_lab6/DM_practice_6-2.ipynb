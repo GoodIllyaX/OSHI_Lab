{
 "cells": [
  {
   "cell_type": "markdown",
   "metadata": {
    "id": "1i8adKFQS7E-"
   },
   "source": [
    "# **Лабораторна робота 6: Пошук аномалій та вирішення задачі *anomaly detection* за допомогою бібліотек `scikit-learn`та `PyTorch`**\n",
    "**Всі завдання виконуються індивідуально. Використання запозиченого коду буде оцінюватись в 0 балів.**\n",
    "\n",
    "**Лабораторні роботи де в коді буде використаня КИРИЛИЦІ будуть оцінюватись в 20 балів.**"
   ]
  },
  {
   "cell_type": "markdown",
   "metadata": {
    "id": "YvneQUbQRRqZ"
   },
   "source": [
    "### Мета роботи:\n",
    "Ознайомитися з основними методами виявлення аномалій, навчитися використовувати бібліотеки `scikit-learn` та `PyTorch` для реалізації алгоритмів пошуку аномалій, проаналізувати ефективність різних методів на реальних наборах даних з Kaggle.\n",
    "\n",
    "\n",
    "### Опис завдання:\n",
    "\n",
    "1. **Постановка задачі**:\n",
    "   Використовуючи один із доступних наборів даних Kaggle (наприклад, *Credit Card Fraud Detection*, *Network Intrusion*, або інші), вам потрібно розв'язати задачу виявлення аномалій. Основна мета — ідентифікувати аномальні записи серед нормальних. Вибраний набір даних повинен містити мітки аномалій для перевірки результатів.\n",
    "\n",
    "2. **Етапи виконання завдання**:\n",
    "   - Завантажте та підготуйте набір даних.\n",
    "   - Проведіть попередню обробку даних (масштабування, заповнення пропущених значень, видалення нерелевантних ознак).\n",
    "   - Використайте різні методи виявлення аномалій:\n",
    "     - **Методи з бібліотеки scikit-learn**:\n",
    "       - Isolation Forest\n",
    "       - One-Class SVM\n",
    "       - Local Outlier Factor (LOF)\n",
    "     - **Методи з використанням PyTorch**:\n",
    "       - Автоенкодери для виявлення аномалій.\n",
    "   - Порівняйте отримані результати, обчисліть метрики якості (Precision, Recall, F1-Score).\n",
    "   - Оцініть, який метод найкраще підходить для вирішення задачі на вашому наборі даних.\n",
    "\n",
    "### Покрокова інструкція\n",
    "\n",
    "1. **Підготовка середовища**:\n",
    "   - Встановіть необхідні бібліотеки:\n",
    "     ```\n",
    "     pip install scikit-learn torch pandas numpy matplotlib\n",
    "     ```\n",
    "\n",
    "2. **Вибір набору даних з Kaggle**:\n",
    "   Зареєструйтесь на Kaggle та оберіть один із наборів даних для виявлення аномалій. Наприклад:\n",
    "   - [Credit Card Fraud Detection](https://www.kaggle.com/mlg-ulb/creditcardfraud)\n",
    "   - [Network Intrusion Detection](https://www.kaggle.com/xyuanh/benchmarking-datasets)\n",
    "\n",
    "3. **Попередня обробка даних**:\n",
    "   - Завантажте дані та проведіть їхню початкову обробку.\n",
    "   - Масштабуйте ознаки за допомогою `StandardScaler` або `MinMaxScaler`.\n",
    "   - Розділіть дані на навчальну і тестову вибірки.\n",
    "\n",
    "4. **Методи з бібліотеки `scikit-learn`**:\n",
    "\n",
    "   - **Isolation Forest**:\n",
    "     ```\n",
    "     from sklearn.ensemble import IsolationForest\n",
    "     ```\n",
    "\n",
    "   - **One-Class SVM**:\n",
    "     ```\n",
    "     from sklearn.svm import OneClassSVM\n",
    "     ```\n",
    "\n",
    "   - **Local Outlier Factor**:\n",
    "     ```\n",
    "     from sklearn.neighbors import LocalOutlierFactor\n",
    "     ```\n",
    "\n",
    "5. **Методи на основі нейронних мереж (PyTorch)**:\n",
    "\n",
    "   Використайте автоенкодер для пошуку аномалій. Побудуйте нейронну мережу з енкодером і декодером. Під час навчання порівняйте відновлені дані з вхідними та обчисліть помилку. Записи з великою помилкою можуть бути аномаліями.\n",
    "\n",
    "   - **Реалізація автоенкодера**:\n",
    "     ```\n",
    "     import torch\n",
    "     import torch.nn as nn\n",
    "     import torch.optim as optim\n",
    "     ```\n",
    "\n",
    "6. **Оцінка результатів**:\n",
    "   Використовуйте метрики оцінки якості:\n",
    "   - `Precision`, `Recall`, `F1-score`\n",
    "   ```\n",
    "   from sklearn.metrics import classification_report\n",
    "   ```\n",
    "\n",
    "7. **Звіт**:\n",
    "   - Поясніть, який метод дав найкращі результати.\n",
    "   - Проаналізуйте, чому деякі методи працюють краще на вашому наборі даних.\n",
    "   - Оцініть можливості використання глибоких нейронних мереж (автоенкодерів) для вирішення задачі.\n",
    "\n",
    "\n",
    "### Результати, які необхідно надати:\n",
    "1. Код рішення у вигляді Jupyter Notebook з аналізом результатів та поясненнями.\n",
    "\n",
    "\n",
    "### Дедлайн:\n",
    "[27 жовтня 23:59]\n",
    "\n",
    "\n",
    "### Корисні ресурси:\n",
    "- [Документація PyTorch](https://pytorch.org/docs/stable/index.html)\n",
    "- [Документація scikit-learn](https://scikit-learn.org/stable/documentation.html)\n",
    "- [Kaggle Datasets](https://www.kaggle.com/datasets)"
   ]
  },
  {
   "cell_type": "code",
   "execution_count": 1,
   "metadata": {
    "id": "NeqgMqm2UETO"
   },
   "outputs": [],
   "source": [
    "import pandas as pd\n",
    "import numpy as np\n",
    "import matplotlib.pyplot as plt\n",
    "from sklearn.preprocessing import StandardScaler\n",
    "from sklearn.model_selection import train_test_split\n",
    "from sklearn.ensemble import IsolationForest\n",
    "from sklearn.svm import OneClassSVM\n",
    "from sklearn.neighbors import LocalOutlierFactor\n",
    "from sklearn.metrics import classification_report, precision_score, recall_score, f1_score\n",
    "import torch\n",
    "import torch.nn as nn\n",
    "import torch.optim as optim"
   ]
  },
  {
   "cell_type": "code",
   "execution_count": 13,
   "metadata": {},
   "outputs": [],
   "source": [
    "data = pd.read_csv('creditcard.csv') "
   ]
  },
  {
   "cell_type": "code",
   "execution_count": 3,
   "metadata": {},
   "outputs": [
    {
     "name": "stdout",
     "output_type": "stream",
     "text": [
      "Time      0\n",
      "V1        0\n",
      "V2        0\n",
      "V3        0\n",
      "V4        0\n",
      "V5        0\n",
      "V6        0\n",
      "V7        0\n",
      "V8        0\n",
      "V9        0\n",
      "V10       0\n",
      "V11       0\n",
      "V12       0\n",
      "V13       0\n",
      "V14       0\n",
      "V15       0\n",
      "V16       0\n",
      "V17       0\n",
      "V18       0\n",
      "V19       0\n",
      "V20       0\n",
      "V21       0\n",
      "V22       0\n",
      "V23       0\n",
      "V24       0\n",
      "V25       0\n",
      "V26       0\n",
      "V27       0\n",
      "V28       0\n",
      "Amount    0\n",
      "Class     0\n",
      "dtype: int64\n"
     ]
    }
   ],
   "source": [
    "print(data.isnull().sum())\n",
    "\n",
    "scaler = StandardScaler()\n",
    "scaled_features = scaler.fit_transform(data.drop(['Class'], axis=1))\n",
    "\n",
    "scaled_data = pd.DataFrame(scaled_features, columns=data.columns[:-1])\n",
    "scaled_data['Class'] = data['Class']\n",
    "\n",
    "X_train, X_test, y_train, y_test = train_test_split(scaled_data.drop(['Class'], axis=1), scaled_data['Class'], test_size=0.3, random_state=42\n",
    ")"
   ]
  },
  {
   "cell_type": "code",
   "execution_count": 4,
   "metadata": {},
   "outputs": [
    {
     "name": "stdout",
     "output_type": "stream",
     "text": [
      "[-1  1  1 ...  1  1  1]\n",
      "Sum of anomalies: 8609\n"
     ]
    }
   ],
   "source": [
    "isolation_forest = IsolationForest(contamination=0.1, random_state=42)\n",
    "isolation_forest.fit(X_train)\n",
    "y_predIf = isolation_forest.predict(X_test)\n",
    "\n",
    "print(y_predIf)\n",
    "\n",
    "sumAnomalies = (y_predIf == -1).sum()\n",
    "print(f\"Sum of anomalies: {sumAnomalies}\")"
   ]
  },
  {
   "cell_type": "code",
   "execution_count": 5,
   "metadata": {},
   "outputs": [
    {
     "name": "stdout",
     "output_type": "stream",
     "text": [
      "Results One-Class SVM:\n",
      "Precision: 0.0146\n",
      "Completeness (Recall): 0.9265\n",
      "F1 measure: 0.0287\n",
      "0    76784\n",
      "1     8659\n",
      "Name: count, dtype: int64\n"
     ]
    }
   ],
   "source": [
    "one_class_svm = OneClassSVM(nu=0.1, kernel=\"rbf\", gamma=0.1)\n",
    "one_class_svm.fit(X_train)\n",
    "y_predSvm = one_class_svm.predict(X_test)\n",
    "\n",
    "y_predSvmBinary = np.where(y_predSvm == -1, 1, 0)\n",
    "\n",
    "precision = precision_score(y_test, y_predSvmBinary)\n",
    "recall = recall_score(y_test, y_predSvmBinary)\n",
    "f1 = f1_score(y_test, y_predSvmBinary)\n",
    "\n",
    "print(\"Results One-Class SVM:\")\n",
    "print(f\"Precision: {precision:.4f}\")\n",
    "print(f\"Completeness (Recall): {recall:.4f}\")\n",
    "print(f\"F1 measure: {f1:.4f}\")\n",
    "\n",
    "print(pd.Series(y_predSvmBinary).value_counts())"
   ]
  },
  {
   "cell_type": "code",
   "execution_count": 6,
   "metadata": {},
   "outputs": [],
   "source": [
    "local_outlier_factor = LocalOutlierFactor(n_neighbors=20, contamination=0.1)\n",
    "y_predLof = local_outlier_factor.fit_predict(X_test)"
   ]
  },
  {
   "cell_type": "code",
   "execution_count": 10,
   "metadata": {},
   "outputs": [
    {
     "name": "stdout",
     "output_type": "stream",
     "text": [
      "Results Local Outlier Factor:\n",
      "Precision: 0.0034\n",
      "Completeness (Recall): 0.2132\n",
      "F1 measure: 0.0067\n",
      "\n",
      "\n",
      "0    76898\n",
      "1     8545\n",
      "Name: count, dtype: int64\n"
     ]
    }
   ],
   "source": [
    "y_predLofBinary = np.where(y_predLof == -1, 1, 0)\n",
    "\n",
    "precision_lof = precision_score(y_test, y_predLofBinary)\n",
    "recall_lof = recall_score(y_test, y_predLofBinary)\n",
    "f1_lof = f1_score(y_test, y_predLofBinary)\n",
    "\n",
    "print(\"Results Local Outlier Factor:\")\n",
    "print(f\"Precision: {precision_lof:.4f}\")\n",
    "print(f\"Completeness (Recall): {recall_lof:.4f}\")\n",
    "print(f\"F1 measure: {f1_lof:.4f}\")\n",
    "\n",
    "print(f\"\\n\")\n",
    "\n",
    "print(pd.Series(y_predLofBinary).value_counts())"
   ]
  },
  {
   "cell_type": "markdown",
   "metadata": {},
   "source": [
    "Завдання 5 - створення класу Autoencoder"
   ]
  },
  {
   "cell_type": "code",
   "execution_count": 11,
   "metadata": {},
   "outputs": [],
   "source": [
    "class Autoencoder(nn.Module):\n",
    "    def __init__(self, input_size):\n",
    "        super(Autoencoder, self).__init__()\n",
    "        \n",
    "        self.encoder = nn.Sequential(\n",
    "            nn.Linear(input_size, 128),\n",
    "            nn.ReLU(True),\n",
    "            nn.Linear(128, 64),\n",
    "            nn.ReLU(True),\n",
    "            nn.Linear(64, 32)\n",
    "        )\n",
    "        \n",
    "        self.decoder = nn.Sequential(\n",
    "            nn.Linear(32, 64),\n",
    "            nn.ReLU(True),\n",
    "            nn.Linear(64, 128),\n",
    "            nn.ReLU(True),\n",
    "            nn.Linear(128, input_size),\n",
    "            nn.Sigmoid()\n",
    "        )\n",
    "\n",
    "    def forward(self, x):\n",
    "        x = self.encoder(x)\n",
    "        x = self.decoder(x)\n",
    "        return x"
   ]
  },
  {
   "cell_type": "code",
   "execution_count": 15,
   "metadata": {},
   "outputs": [],
   "source": [
    "X_train_tensor = torch.FloatTensor(X_train.values)\n",
    "X_test_tensor = torch.FloatTensor(X_test.values)"
   ]
  },
  {
   "cell_type": "code",
   "execution_count": 24,
   "metadata": {},
   "outputs": [
    {
     "name": "stdout",
     "output_type": "stream",
     "text": [
      "Epoch [10/50], Loss: 1.2234\n",
      "Epoch [20/50], Loss: 1.0945\n",
      "Epoch [30/50], Loss: 1.0061\n",
      "Epoch [40/50], Loss: 1.0061\n",
      "Epoch [50/50], Loss: 1.0061\n"
     ]
    }
   ],
   "source": [
    "inputSize = X_train.shape[1]  \n",
    "numEpochs = 50\n",
    "learning_rate = 0.001\n",
    "\n",
    "model = Autoencoder(inputSize)\n",
    "criterion = nn.MSELoss() \n",
    "optimizer = optim.Adam(model.parameters(), lr=learning_rate)\n",
    "\n",
    "for epoch in range(numEpochs):\n",
    "    outputs = model(X_train_tensor)\n",
    "    loss = criterion(outputs, X_train_tensor)\n",
    "    \n",
    "    optimizer.zero_grad()\n",
    "    loss.backward()\n",
    "    optimizer.step()\n",
    "\n",
    "    if (epoch + 1) % 10 == 0:\n",
    "        print(f'Epoch [{epoch + 1}/{numEpochs}], Loss: {loss.item():.4f}')"
   ]
  },
  {
   "cell_type": "code",
   "execution_count": 25,
   "metadata": {},
   "outputs": [
    {
     "name": "stdout",
     "output_type": "stream",
     "text": [
      "Number of anomalies detected: 0\n"
     ]
    }
   ],
   "source": [
    "with torch.no_grad():\n",
    "    reconstructed = model(X_test_tensor)\n",
    "    \n",
    "lossPerSample = criterion(reconstructed, X_test_tensor).numpy()\n",
    "threshold = np.percentile(lossPerSample, 95) \n",
    "\n",
    "anomalies = lossPerSample > threshold\n",
    "print(f'Number of anomalies detected: {np.sum(anomalies)}')"
   ]
  },
  {
   "cell_type": "markdown",
   "metadata": {},
   "source": [
    "Завдання 6"
   ]
  },
  {
   "cell_type": "code",
   "execution_count": 28,
   "metadata": {},
   "outputs": [
    {
     "name": "stdout",
     "output_type": "stream",
     "text": [
      "Classification Report for Isolation Forest:\n",
      "              precision    recall  f1-score   support\n",
      "\n",
      "           0       1.00      0.90      0.95     85307\n",
      "           1       0.01      0.90      0.03       136\n",
      "\n",
      "    accuracy                           0.90     85443\n",
      "   macro avg       0.51      0.90      0.49     85443\n",
      "weighted avg       1.00      0.90      0.95     85443\n",
      "\n",
      "Classification Report for One-Class SVM:\n",
      "              precision    recall  f1-score   support\n",
      "\n",
      "           0       1.00      0.90      0.95     85307\n",
      "           1       0.01      0.93      0.03       136\n",
      "\n",
      "    accuracy                           0.90     85443\n",
      "   macro avg       0.51      0.91      0.49     85443\n",
      "weighted avg       1.00      0.90      0.95     85443\n",
      "\n",
      "Classification Report for Local Outlier Factor:\n",
      "              precision    recall  f1-score   support\n",
      "\n",
      "           0       1.00      0.90      0.95     85307\n",
      "           1       0.00      0.21      0.01       136\n",
      "\n",
      "    accuracy                           0.90     85443\n",
      "   macro avg       0.50      0.56      0.48     85443\n",
      "weighted avg       1.00      0.90      0.95     85443\n",
      "\n"
     ]
    }
   ],
   "source": [
    "print(\"Classification Report for Isolation Forest:\")\n",
    "y_pred_if_binary = np.where(y_predIf == -1, 1, 0)  \n",
    "print(classification_report(y_test, y_pred_if_binary))\n",
    "\n",
    "print(\"Classification Report for One-Class SVM:\")\n",
    "print(classification_report(y_test, y_predSvmBinary))\n",
    "\n",
    "print(\"Classification Report for Local Outlier Factor:\")\n",
    "y_pred_lof_binary = np.where(y_predLof == -1, 1, 0)  \n",
    "print(classification_report(y_test, y_pred_lof_binary))"
   ]
  },
  {
   "cell_type": "markdown",
   "metadata": {},
   "source": [
    "# Звіт\n",
    "\n",
    "1. Найкращий метод: \n",
    " - (Isolation Forest та One-Class SVM), але One-Class SVM буде трохи кращим у точносці.\n",
    "\n",
    "2. Аналіз методів: \n",
    " - Isolation Forest: Добре підходить для великих обсягів даних. Може бути менш чутливим до шуму та викидів.\n",
    " - One-Class SVM: Цей метод є оптимальним рішенням для задач, які вимагають виявлення аномалій у високорозмірних просторах.\n",
    " - Local Outlier Factor: (LOF) може виявитися менш ефективним для цього набору даних, оскільки він залежить від щільності локальних областей.\n",
    "\n",
    "3. Автоенкодери є потужним інструментом для виявлення аномалій. \n",
    "   - В мене Автоенкодер показав 0 виявлюваність аномалій у цьому тесті.\n"
   ]
  }
 ],
 "metadata": {
  "colab": {
   "provenance": []
  },
  "kernelspec": {
   "display_name": "Python 3",
   "name": "python3"
  },
  "language_info": {
   "codemirror_mode": {
    "name": "ipython",
    "version": 3
   },
   "file_extension": ".py",
   "mimetype": "text/x-python",
   "name": "python",
   "nbconvert_exporter": "python",
   "pygments_lexer": "ipython3",
   "version": "3.11.2"
  }
 },
 "nbformat": 4,
 "nbformat_minor": 0
}
